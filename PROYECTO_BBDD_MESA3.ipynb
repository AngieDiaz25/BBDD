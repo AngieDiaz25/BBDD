{
 "cells": [
  {
   "cell_type": "markdown",
   "id": "dcbb6f17",
   "metadata": {},
   "source": [
    "#### IMPORTACIÓN LIBRERÍAS"
   ]
  },
  {
   "cell_type": "code",
   "execution_count": 1,
   "id": "d02e151e",
   "metadata": {},
   "outputs": [
    {
     "name": "stdout",
     "output_type": "stream",
     "text": [
      "Librerías importadas correctamente\n"
     ]
    }
   ],
   "source": [
    "# Importamos sqlite3, la librería estándar de Python para trabajar con bases de datos SQLite\n",
    "# SQLite es una base de datos embebida que no requiere servidor\n",
    "import sqlite3\n",
    "\n",
    "# Importamos datetime para trabajar con fechas y horas\n",
    "# Esto nos permitirá registrar cuándo ocurren eventos (ej: fecha de registro de cliente)\n",
    "from datetime import datetime\n",
    "\n",
    "# Importamos pandas para visualizar mejor los resultados (opcional pero recomendado)\n",
    "# Pandas nos permite mostrar los datos en formato tabla más legible\n",
    "import pandas as pd\n",
    "\n",
    "# Mensaje de confirmación para saber que todo se importó correctamente\n",
    "print(\"Librerías importadas correctamente\")"
   ]
  },
  {
   "cell_type": "markdown",
   "id": "b9ad061f",
   "metadata": {},
   "source": [
    "#### CONEXIÓN A BBDD"
   ]
  },
  {
   "cell_type": "code",
   "execution_count": 2,
   "id": "71a3c614",
   "metadata": {},
   "outputs": [
    {
     "name": "stdout",
     "output_type": "stream",
     "text": [
      "Conexión establecida exitosamente\n",
      "Base de datos: thebridge.db\n"
     ]
    }
   ],
   "source": [
    "# Creamos la conexión a la base de datos\n",
    "# sqlite3.connect() crea un archivo .db si no existe o se conecta a uno existente\n",
    "# Si el archivo 'tienda_online.db' no existe, se creará automáticamente\n",
    "conexion = sqlite3.connect('thebridge.db')\n",
    "\n",
    "# Creamos un cursor, que es el objeto que usaremos para ejecutar comandos SQL\n",
    "# El cursor es como un \"puntero\" que nos permite navegar y modificar la base de datos\n",
    "cursor = conexion.cursor()\n",
    "\n",
    "# Mensajes informativos para confirmar que la conexión fue exitosa\n",
    "print(\"Conexión establecida exitosamente\")\n",
    "print(f\"Base de datos: thebridge.db\")"
   ]
  },
  {
   "cell_type": "markdown",
   "id": "9ad2fb39",
   "metadata": {},
   "source": [
    "#### IMPORTAR CSV"
   ]
  },
  {
   "cell_type": "code",
   "execution_count": 3,
   "id": "95fb7ccc",
   "metadata": {},
   "outputs": [],
   "source": [
    "df_clase1 = pd.read_csv(\"./data/clase_1.csv\", sep=\";\")\n",
    "df_clase2 = pd.read_csv(\"./data/clase_2.csv\", sep=\";\")\n",
    "df_clase3 = pd.read_csv(\"./data/clase_3.csv\", sep=\";\")\n",
    "df_clase4 = pd.read_csv(\"./data/clase_4.csv\", sep=\";\")\n",
    "\n",
    "df_alumnos_ds = pd.concat([df_clase1, df_clase2])\n",
    "df_alumnos_fs = pd.concat([df_clase3, df_clase4])\n",
    "\n",
    "df_alumnos = pd.concat([df_alumnos_ds, df_alumnos_fs])\n",
    "\n",
    "df_claustro = pd.read_csv(\"./data/claustro.csv\", sep=\";\")"
   ]
  },
  {
   "cell_type": "code",
   "execution_count": 4,
   "id": "979abc7d",
   "metadata": {},
   "outputs": [
    {
     "name": "stdout",
     "output_type": "stream",
     "text": [
      "<class 'pandas.core.frame.DataFrame'>\n",
      "Index: 25 entries, 0 to 9\n",
      "Data columns (total 10 columns):\n",
      " #   Column               Non-Null Count  Dtype \n",
      "---  ------               --------------  ----- \n",
      " 0   Nombre               25 non-null     object\n",
      " 1   Email                25 non-null     object\n",
      " 2   Promoción            25 non-null     object\n",
      " 3   Fecha_comienzo       25 non-null     object\n",
      " 4   Campus               25 non-null     object\n",
      " 5   Proyecto_HLF         25 non-null     object\n",
      " 6   Proyecto_EDA         25 non-null     object\n",
      " 7   Proyecto_BBDD        25 non-null     object\n",
      " 8   Proyecto_ML          25 non-null     object\n",
      " 9   Proyecto_Deployment  25 non-null     object\n",
      "dtypes: object(10)\n",
      "memory usage: 2.1+ KB\n"
     ]
    }
   ],
   "source": [
    "df_alumnos_ds.info()"
   ]
  },
  {
   "cell_type": "markdown",
   "id": "3f1fef6a",
   "metadata": {},
   "source": [
    "================================================================================================"
   ]
  },
  {
   "cell_type": "markdown",
   "id": "fad2f5e3",
   "metadata": {},
   "source": [
    "#### CREACIÓN DE TABLAS DE DIMENSIONES"
   ]
  },
  {
   "cell_type": "code",
   "execution_count": 5,
   "id": "b4bbf520",
   "metadata": {},
   "outputs": [
    {
     "name": "stdout",
     "output_type": "stream",
     "text": [
      "✓ Tabla ALUMNOS creada exitosamente\n"
     ]
    }
   ],
   "source": [
    "# Primero eliminamos la tabla si ya existe (útil para reiniciar desde cero)\n",
    "# DROP TABLE IF EXISTS es una operación segura que no da error si la tabla no existe\n",
    "cursor.execute('DROP TABLE IF EXISTS ALUMNOS')\n",
    "\n",
    "cursor.execute('''\n",
    "    CREATE TABLE ALUMNOS (\n",
    "    AlumnoID INTEGER PRIMARY KEY AUTOINCREMENT,\n",
    "    Nombre VARCHAR(255) NOT NULL,\n",
    "    Email VARCHAR(255) UNIQUE NOT NULL\n",
    ")\n",
    "''')\n",
    "\n",
    "# Guardamos los cambios en la base de datos\n",
    "# commit() hace permanentes los cambios - sin esto, los cambios se pierden\n",
    "conexion.commit()\n",
    "\n",
    "print(\"✓ Tabla ALUMNOS creada exitosamente\")"
   ]
  },
  {
   "cell_type": "code",
   "execution_count": 6,
   "id": "e3bf03d0",
   "metadata": {},
   "outputs": [
    {
     "name": "stdout",
     "output_type": "stream",
     "text": [
      "✓ Tabla PROFESORES creada exitosamente\n"
     ]
    }
   ],
   "source": [
    "# Primero eliminamos la tabla si ya existe (útil para reiniciar desde cero)\n",
    "# DROP TABLE IF EXISTS es una operación segura que no da error si la tabla no existe\n",
    "cursor.execute('DROP TABLE IF EXISTS PROFESORES')\n",
    "\n",
    "\n",
    "cursor.execute('''\n",
    "    CREATE TABLE PROFESORES (\n",
    "    ProfesorID INTEGER PRIMARY KEY AUTOINCREMENT,\n",
    "    Nombre VARCHAR(255) NOT NULL,\n",
    "    Rol VARCHAR(50), -- (TA, LI)\n",
    "    Modalidad VARCHAR(50)\n",
    ")\n",
    "''')\n",
    "\n",
    "# Guardamos los cambios en la base de datos\n",
    "# commit() hace permanentes los cambios - sin esto, los cambios se pierden\n",
    "conexion.commit()\n",
    "\n",
    "print(\"✓ Tabla PROFESORES creada exitosamente\")"
   ]
  },
  {
   "cell_type": "code",
   "execution_count": 7,
   "id": "0ce4ca43",
   "metadata": {},
   "outputs": [
    {
     "name": "stdout",
     "output_type": "stream",
     "text": [
      "✓ Tabla PROMOCION creada exitosamente\n"
     ]
    }
   ],
   "source": [
    "# Primero eliminamos la tabla si ya existe (útil para reiniciar desde cero)\n",
    "# DROP TABLE IF EXISTS es una operación segura que no da error si la tabla no existe\n",
    "cursor.execute('DROP TABLE IF EXISTS PROMOCION')\n",
    "\n",
    "cursor.execute('''\n",
    "    CREATE TABLE PROMOCION (\n",
    "    PromocionID INTEGER PRIMARY KEY AUTOINCREMENT,\n",
    "    Mes VARCHAR(50) NOT NULL, -- Ej: 'Septiembre', 'Febrero'\n",
    "    Fecha_comienzo DATE NOT NULL\n",
    ")\n",
    "''')\n",
    "\n",
    "# Guardamos los cambios en la base de datos\n",
    "# commit() hace permanentes los cambios - sin esto, los cambios se pierden\n",
    "conexion.commit()\n",
    "\n",
    "print(\"✓ Tabla PROMOCION creada exitosamente\")"
   ]
  },
  {
   "cell_type": "code",
   "execution_count": 8,
   "id": "7798ccc2",
   "metadata": {},
   "outputs": [
    {
     "name": "stdout",
     "output_type": "stream",
     "text": [
      "✓ Tabla VERTICALES creada exitosamente\n"
     ]
    }
   ],
   "source": [
    "# Primero eliminamos la tabla si ya existe (útil para reiniciar desde cero)\n",
    "# DROP TABLE IF EXISTS es una operación segura que no da error si la tabla no existe\n",
    "cursor.execute('DROP TABLE IF EXISTS VERTICALES')\n",
    "\n",
    "\n",
    "cursor.execute('''\n",
    "    CREATE TABLE VERTICALES (\n",
    "    VerticalID INTEGER PRIMARY KEY AUTOINCREMENT,\n",
    "    Nombre VARCHAR(50) UNIQUE NOT NULL\n",
    ")\n",
    "''')\n",
    "\n",
    "# Guardamos los cambios en la base de datos\n",
    "# commit() hace permanentes los cambios - sin esto, los cambios se pierden\n",
    "conexion.commit()\n",
    "\n",
    "print(\"✓ Tabla VERTICALES creada exitosamente\")"
   ]
  },
  {
   "cell_type": "code",
   "execution_count": 9,
   "id": "1aeca4f7",
   "metadata": {},
   "outputs": [
    {
     "name": "stdout",
     "output_type": "stream",
     "text": [
      "✓ Tabla CAMPUS creada exitosamente\n"
     ]
    }
   ],
   "source": [
    "# Primero eliminamos la tabla si ya existe (útil para reiniciar desde cero)\n",
    "# DROP TABLE IF EXISTS es una operación segura que no da error si la tabla no existe\n",
    "cursor.execute('DROP TABLE IF EXISTS CAMPUS')\n",
    "\n",
    "\n",
    "cursor.execute('''\n",
    "    CREATE TABLE CAMPUS (\n",
    "    CampusID INTEGER PRIMARY KEY AUTOINCREMENT,\n",
    "    Ciudad VARCHAR(50) NOT NULL -- Ej: 'Madrid', 'Valencia'\n",
    ")\n",
    "''')\n",
    "\n",
    "# Guardamos los cambios en la base de datos\n",
    "# commit() hace permanentes los cambios - sin esto, los cambios se pierden\n",
    "conexion.commit()\n",
    "\n",
    "print(\"✓ Tabla CAMPUS creada exitosamente\")"
   ]
  },
  {
   "cell_type": "markdown",
   "id": "8f2e1b9d",
   "metadata": {},
   "source": [
    "================================================================================================"
   ]
  },
  {
   "cell_type": "markdown",
   "id": "fa3c061b",
   "metadata": {},
   "source": [
    "#### CREACIÓN DE TABLA DEPENDIENTE"
   ]
  },
  {
   "cell_type": "code",
   "execution_count": 10,
   "id": "8433916e",
   "metadata": {},
   "outputs": [
    {
     "name": "stdout",
     "output_type": "stream",
     "text": [
      "✓ Tabla PROYECTOS creada exitosamente\n"
     ]
    }
   ],
   "source": [
    "# Primero eliminamos la tabla si ya existe (útil para reiniciar desde cero)\n",
    "# DROP TABLE IF EXISTS es una operación segura que no da error si la tabla no existe\n",
    "cursor.execute('DROP TABLE IF EXISTS PROYECTOS')\n",
    "\n",
    "\n",
    "cursor.execute('''\n",
    "    CREATE TABLE PROYECTOS (\n",
    "    ProyectoID INTEGER PRIMARY KEY AUTOINCREMENT,\n",
    "    Nombre VARCHAR(100) NOT NULL,\n",
    "    VerticalID INTEGER NOT NULL,\n",
    "    -- FK: Un proyecto pertenece a una Vertical\n",
    "    FOREIGN KEY (VerticalID) REFERENCES VERTICALES(VerticalID)\n",
    ")\n",
    "''')\n",
    "\n",
    "# Guardamos los cambios en la base de datos\n",
    "# commit() hace permanentes los cambios - sin esto, los cambios se pierden\n",
    "conexion.commit()\n",
    "\n",
    "print(\"✓ Tabla PROYECTOS creada exitosamente\")"
   ]
  },
  {
   "cell_type": "markdown",
   "id": "1a04e433",
   "metadata": {},
   "source": [
    "================================================================================================"
   ]
  },
  {
   "cell_type": "markdown",
   "id": "09450546",
   "metadata": {},
   "source": [
    "#### CREACIÓN DE TABLA CENTRAL"
   ]
  },
  {
   "cell_type": "code",
   "execution_count": 11,
   "id": "7e78be5a",
   "metadata": {},
   "outputs": [
    {
     "name": "stdout",
     "output_type": "stream",
     "text": [
      "✓ Tabla CURSO creada exitosamente\n"
     ]
    }
   ],
   "source": [
    "# Primero eliminamos la tabla si ya existe (útil para reiniciar desde cero)\n",
    "# DROP TABLE IF EXISTS es una operación segura que no da error si la tabla no existe\n",
    "cursor.execute('DROP TABLE IF EXISTS CURSO')\n",
    "\n",
    "\n",
    "cursor.execute('''\n",
    "               --Define la instancia única del curso (QUÉ, CUÁNDO, DÓNDE).\n",
    "    CREATE TABLE CURSO (\n",
    "    CursoID INTEGER PRIMARY KEY AUTOINCREMENT,\n",
    "    PromocionID INTEGER NOT NULL,\n",
    "    VerticalID INTEGER NOT NULL,\n",
    "    CampusID INTEGER NOT NULL,\n",
    "\n",
    "    -- FKs a las Tablas de Dimensión\n",
    "    FOREIGN KEY (PromocionID) REFERENCES PROMOCION(PromocionID),\n",
    "    FOREIGN KEY (VerticalID) REFERENCES VERTICALES(VerticalID),\n",
    "    FOREIGN KEY (CampusID) REFERENCES CAMPUS(CampusID)\n",
    ")\n",
    "''')\n",
    "\n",
    "# Guardamos los cambios en la base de datos\n",
    "# commit() hace permanentes los cambios - sin esto, los cambios se pierden\n",
    "conexion.commit()\n",
    "\n",
    "print(\"✓ Tabla CURSO creada exitosamente\")"
   ]
  },
  {
   "cell_type": "markdown",
   "id": "1fdf2e85",
   "metadata": {},
   "source": [
    "================================================================================================"
   ]
  },
  {
   "cell_type": "markdown",
   "id": "daf5bca2",
   "metadata": {},
   "source": [
    "#### CREACIÓN DE TABLAS PUENTE"
   ]
  },
  {
   "cell_type": "code",
   "execution_count": 12,
   "id": "9c78e553",
   "metadata": {},
   "outputs": [
    {
     "name": "stdout",
     "output_type": "stream",
     "text": [
      "✓ Tabla MATRICULAS creada exitosamente\n"
     ]
    }
   ],
   "source": [
    "# Primero eliminamos la tabla si ya existe (útil para reiniciar desde cero)\n",
    "# DROP TABLE IF EXISTS es una operación segura que no da error si la tabla no existe\n",
    "cursor.execute('DROP TABLE IF EXISTS MATRICULAS')\n",
    "\n",
    "\n",
    "cursor.execute('''\n",
    "               --Resuelve la N:M entre ALUMNOS y CURSO.\n",
    "    CREATE TABLE MATRICULAS (\n",
    "    CursoID INTEGER NOT NULL,\n",
    "    AlumnoID INTEGER NOT NULL,\n",
    "    FechaInscripcion DATE,\n",
    "\n",
    "    -- PK Compuesta: Un alumno se inscribe una sola vez por curso\n",
    "    PRIMARY KEY (CursoID, AlumnoID),\n",
    "\n",
    "    FOREIGN KEY (CursoID) REFERENCES CURSO(CursoID),\n",
    "    FOREIGN KEY (AlumnoID) REFERENCES ALUMNOS(AlumnoID)\n",
    ")\n",
    "''')\n",
    "\n",
    "# Guardamos los cambios en la base de datos\n",
    "# commit() hace permanentes los cambios - sin esto, los cambios se pierden\n",
    "conexion.commit()\n",
    "\n",
    "print(\"✓ Tabla MATRICULAS creada exitosamente\")"
   ]
  },
  {
   "cell_type": "code",
   "execution_count": 13,
   "id": "cdc7d614",
   "metadata": {},
   "outputs": [
    {
     "name": "stdout",
     "output_type": "stream",
     "text": [
      "✓ Tabla CURSO_PROFESOR creada exitosamente\n"
     ]
    }
   ],
   "source": [
    "# Primero eliminamos la tabla si ya existe (útil para reiniciar desde cero)\n",
    "# DROP TABLE IF EXISTS es una operación segura que no da error si la tabla no existe\n",
    "cursor.execute('DROP TABLE IF EXISTS CURSO_PROFESOR')\n",
    "\n",
    "\n",
    "cursor.execute('''\n",
    "               --Resuelve la N:M entre PROFESORES y CURSO.\n",
    "    CREATE TABLE CURSO_PROFESOR (\n",
    "    CursoID INTEGER NOT NULL,\n",
    "    ProfesorID INTEGER NOT NULL,\n",
    "    RolEnCurso VARCHAR(50),\n",
    "\n",
    "    -- PK Compuesta: Un profesor tiene una única asignación por curso\n",
    "    PRIMARY KEY (CursoID, ProfesorID),\n",
    "\n",
    "    FOREIGN KEY (CursoID) REFERENCES CURSO(CursoID),\n",
    "    FOREIGN KEY (ProfesorID) REFERENCES PROFESORES(ProfesorID)\n",
    ")\n",
    "''')\n",
    "\n",
    "# Guardamos los cambios en la base de datos\n",
    "# commit() hace permanentes los cambios - sin esto, los cambios se pierden\n",
    "conexion.commit()\n",
    "\n",
    "print(\"✓ Tabla CURSO_PROFESOR creada exitosamente\")"
   ]
  },
  {
   "cell_type": "markdown",
   "id": "cb1c9978",
   "metadata": {},
   "source": [
    "================================================================================================"
   ]
  },
  {
   "cell_type": "markdown",
   "id": "c1dcbf89",
   "metadata": {},
   "source": [
    "#### CREACIÓN DE TABLA DE HECHOS"
   ]
  },
  {
   "cell_type": "code",
   "execution_count": 14,
   "id": "879bc67f",
   "metadata": {},
   "outputs": [
    {
     "name": "stdout",
     "output_type": "stream",
     "text": [
      "✓ Tabla CALIFICACIONES creada exitosamente\n"
     ]
    }
   ],
   "source": [
    "# Primero eliminamos la tabla si ya existe (útil para reiniciar desde cero)\n",
    "# DROP TABLE IF EXISTS es una operación segura que no da error si la tabla no existe\n",
    "cursor.execute('DROP TABLE IF EXISTS CALIFICACIONES')\n",
    "\n",
    "\n",
    "cursor.execute('''\n",
    "               --Registra la nota del proyecto.\n",
    "    CREATE TABLE CALIFICACIONES (\n",
    "    -- Estos campos forman la PK y la FK Compuesta a MATRICULAS\n",
    "    CursoID INTEGER NOT NULL,\n",
    "    AlumnoID INTEGER NOT NULL,\n",
    "    ProyectoID INTEGER NOT NULL,\n",
    "\n",
    "    -- La Nota utiliza VARCHAR(10) para almacenar 'Apto' o 'No Apto'\n",
    "    Nota VARCHAR(10) NOT NULL, \n",
    "    FechaEvaluacion DATE,\n",
    "\n",
    "    -- PK Compuesta: La nota es única para ese Alumno, Curso e Proyecto.\n",
    "    PRIMARY KEY (CursoID, AlumnoID, ProyectoID),\n",
    "\n",
    "    -- FK 1: Valida que el Proyecto existe\n",
    "    FOREIGN KEY (ProyectoID) REFERENCES PROYECTOS(ProyectoID),\n",
    "\n",
    "    -- FK 2: VALIDA LA INSCRIPCIÓN (La clave de la integridad)\n",
    "    -- Asegura que la calificación solo aplica a un par (CursoID, AlumnoID) que existe en MATRICULAS.\n",
    "    FOREIGN KEY (CursoID, AlumnoID) REFERENCES MATRICULAS(CursoID, AlumnoID)\n",
    ")\n",
    "''')\n",
    "\n",
    "# Guardamos los cambios en la base de datos\n",
    "# commit() hace permanentes los cambios - sin esto, los cambios se pierden\n",
    "conexion.commit()\n",
    "\n",
    "print(\"✓ Tabla CALIFICACIONES creada exitosamente\")"
   ]
  },
  {
   "cell_type": "markdown",
   "id": "4d50f8cd",
   "metadata": {},
   "source": [
    "================================================================================================"
   ]
  },
  {
   "cell_type": "markdown",
   "id": "a3c2e8e9",
   "metadata": {},
   "source": [
    "#### VERIFICACIÓN DE TABLAS CREADAS"
   ]
  },
  {
   "cell_type": "code",
   "execution_count": 15,
   "id": "4bc02ccc",
   "metadata": {},
   "outputs": [
    {
     "name": "stdout",
     "output_type": "stream",
     "text": [
      "Tablas en la base de datos:\n",
      "========================================\n",
      "  • sqlite_sequence\n",
      "  • ALUMNOS\n",
      "  • PROFESORES\n",
      "  • PROMOCION\n",
      "  • VERTICALES\n",
      "  • CAMPUS\n",
      "  • PROYECTOS\n",
      "  • CURSO\n",
      "  • MATRICULAS\n",
      "  • CURSO_PROFESOR\n",
      "  • CALIFICACIONES\n"
     ]
    }
   ],
   "source": [
    "# Consultamos la tabla sqlite_master que contiene información sobre todas las tablas\n",
    "# sqlite_master es una tabla especial del sistema que almacena metadatos\n",
    "# WHERE type='table' filtra solo las tablas (no vistas, índices, etc.)\n",
    "cursor.execute(\"SELECT name FROM sqlite_master WHERE type='table'\")\n",
    "\n",
    "# fetchall() obtiene todos los resultados de la consulta como una lista de tuplas\n",
    "tablas = cursor.fetchall()\n",
    "\n",
    "print(\"Tablas en la base de datos:\")\n",
    "print(\"=\"*40)\n",
    "# Iteramos sobre cada tabla encontrada\n",
    "for tabla in tablas:\n",
    "    # tabla[0] contiene el nombre de la tabla (primera columna del resultado)\n",
    "    print(f\"  • {tabla[0]}\")"
   ]
  },
  {
   "cell_type": "markdown",
   "id": "8f86a090",
   "metadata": {},
   "source": [
    "================================================================================================"
   ]
  },
  {
   "cell_type": "markdown",
   "id": "d1bd23be",
   "metadata": {},
   "source": [
    "#### INSERCIÓN DE DATOS"
   ]
  },
  {
   "cell_type": "markdown",
   "id": "99c31642",
   "metadata": {},
   "source": [
    "##### ALUMNOS"
   ]
  },
  {
   "cell_type": "code",
   "execution_count": 16,
   "id": "9c545b19",
   "metadata": {},
   "outputs": [
    {
     "name": "stdout",
     "output_type": "stream",
     "text": [
      "✓ 52 alumnos insertados correctamente\n"
     ]
    }
   ],
   "source": [
    "alumnos = df_alumnos[[\"Nombre\", \"Email\"]].drop_duplicates(subset=['Email']).reset_index(drop=True).values.tolist()\n",
    "\n",
    "\n",
    "cursor.executemany('''\n",
    "    INSERT INTO ALUMNOS (Nombre, Email)\n",
    "    VALUES (?, ?)\n",
    "''', alumnos)\n",
    "\n",
    "# Guardamos todos los cambios a la vez\n",
    "conexion.commit()\n",
    "\n",
    "print(f\"✓ {len(alumnos)} alumnos insertados correctamente\")"
   ]
  },
  {
   "cell_type": "markdown",
   "id": "9b60717b",
   "metadata": {},
   "source": [
    "##### PROFESORES"
   ]
  },
  {
   "cell_type": "code",
   "execution_count": 17,
   "id": "3f762711",
   "metadata": {},
   "outputs": [
    {
     "name": "stdout",
     "output_type": "stream",
     "text": [
      "✓ 10 profesores insertados correctamente\n"
     ]
    }
   ],
   "source": [
    "profesores = df_claustro[[\"Nombre\", \"Rol\", \"Modalidad\"]].drop_duplicates(subset=[\"Nombre\"]).reset_index(drop=True).values.tolist()\n",
    "\n",
    "cursor.executemany('''\n",
    "    INSERT INTO PROFESORES (Nombre, Rol, Modalidad)\n",
    "    VALUES (?, ?, ?)\n",
    "''', profesores)\n",
    "\n",
    "# Guardamos todos los cambios a la vez\n",
    "conexion.commit()\n",
    "\n",
    "print(f\"✓ {len(profesores)} profesores insertados correctamente\")"
   ]
  },
  {
   "cell_type": "markdown",
   "id": "93ff726b",
   "metadata": {},
   "source": [
    "##### VERTICALES"
   ]
  },
  {
   "cell_type": "code",
   "execution_count": 18,
   "id": "3cf44e93",
   "metadata": {},
   "outputs": [
    {
     "name": "stdout",
     "output_type": "stream",
     "text": [
      "✓ 2 verticales insertadas correctamente\n"
     ]
    }
   ],
   "source": [
    "verticales = df_claustro[[\"Vertical\"]].drop_duplicates().reset_index(drop=True).values.tolist()\n",
    "\n",
    "cursor.executemany('''\n",
    "    INSERT INTO VERTICALES (Nombre)\n",
    "    VALUES (?)\n",
    "''', verticales)\n",
    "\n",
    "# Guardamos todos los cambios a la vez\n",
    "conexion.commit()\n",
    "\n",
    "print(f\"✓ {len(verticales)} verticales insertadas correctamente\")"
   ]
  },
  {
   "cell_type": "markdown",
   "id": "1c12519e",
   "metadata": {},
   "source": [
    "##### CAMPUS"
   ]
  },
  {
   "cell_type": "code",
   "execution_count": 19,
   "id": "5dd743e4",
   "metadata": {},
   "outputs": [
    {
     "name": "stdout",
     "output_type": "stream",
     "text": [
      "✓ 2 campus insertadas correctamente\n"
     ]
    }
   ],
   "source": [
    "campus = df_claustro[[\"Campus\"]].drop_duplicates().reset_index(drop=True).values.tolist()\n",
    "\n",
    "cursor.executemany('''\n",
    "    INSERT INTO CAMPUS (Ciudad)\n",
    "    VALUES (?)\n",
    "''', campus)\n",
    "\n",
    "# Guardamos todos los cambios a la vez\n",
    "conexion.commit()\n",
    "\n",
    "print(f\"✓ {len(campus)} campus insertadas correctamente\")"
   ]
  },
  {
   "cell_type": "markdown",
   "id": "cc9305e6",
   "metadata": {},
   "source": [
    "##### PROMOCIONES"
   ]
  },
  {
   "cell_type": "code",
   "execution_count": 20,
   "id": "09afc7a3",
   "metadata": {},
   "outputs": [
    {
     "name": "stdout",
     "output_type": "stream",
     "text": [
      "✓ 2 promociones insertados correctamente\n"
     ]
    }
   ],
   "source": [
    "promociones = df_alumnos[[\"Promoción\", \"Fecha_comienzo\"]].drop_duplicates().reset_index(drop=True).values.tolist()\n",
    "\n",
    "cursor.executemany('''\n",
    "    INSERT INTO PROMOCION (Mes, Fecha_comienzo)\n",
    "    VALUES (?, ?)\n",
    "''', promociones)\n",
    "\n",
    "# Guardamos todos los cambios a la vez\n",
    "conexion.commit()\n",
    "\n",
    "print(f\"✓ {len(promociones)} promociones insertados correctamente\")"
   ]
  },
  {
   "cell_type": "markdown",
   "id": "7c882f64",
   "metadata": {},
   "source": [
    "##### PROYECTOS"
   ]
  },
  {
   "cell_type": "code",
   "execution_count": 21,
   "id": "890c4bb6",
   "metadata": {},
   "outputs": [
    {
     "name": "stdout",
     "output_type": "stream",
     "text": [
      "Preparados para insertar 10 proyectos (10 en total).\n",
      "✓ 10 proyectos insertados correctamente\n"
     ]
    }
   ],
   "source": [
    "# 1. PASO LOOKUP: Obtener los VerticalID necesarios\n",
    "# Consultar la BD para obtener los IDs\n",
    "cursor.execute(\"SELECT VerticalID FROM VERTICALES WHERE Nombre = 'DS'\")\n",
    "ds_id = cursor.fetchone()[0]\n",
    "\n",
    "cursor.execute(\"SELECT VerticalID FROM VERTICALES WHERE Nombre = 'FS'\")\n",
    "fs_id = cursor.fetchone()[0]\n",
    "\n",
    "\n",
    "# 2. DEFINICIÓN DE PROYECTOS POR VERTICAL\n",
    "proyectos_ds = df_alumnos.columns[5:10].values.tolist()\n",
    "\n",
    "proyectos_fs = df_alumnos.columns[10:].values.tolist()\n",
    "\n",
    "\n",
    "# 3. CREAR LISTA FINAL DE TUPLAS (Nombre, VerticalID)\n",
    "proyectos_datos = []\n",
    "\n",
    "# Añadir los 5 proyectos de Data Science\n",
    "for nombre in proyectos_ds:\n",
    "    proyectos_datos.append((nombre, ds_id))\n",
    "\n",
    "# Añadir los 5 proyectos de Full Stack\n",
    "for nombre in proyectos_fs:\n",
    "    proyectos_datos.append((nombre, fs_id))\n",
    "\n",
    "print(f\"Preparados para insertar {len(proyectos_datos)} proyectos (10 en total).\")\n",
    "\n",
    "# 4. Ejecutar executemany() para insertar todos los datos\n",
    "# Usamos INSERT OR IGNORE, ya que el par (Nombre, VerticalID) debe ser único.\n",
    "cursor.executemany('''\n",
    "    INSERT OR IGNORE INTO PROYECTOS (Nombre, VerticalID)\n",
    "    VALUES (?, ?)\n",
    "''', proyectos_datos)\n",
    "\n",
    "# Guardamos todos los cambios a la vez\n",
    "conexion.commit()\n",
    "\n",
    "print(f\"✓ {len(proyectos_datos)} proyectos insertados correctamente\")"
   ]
  },
  {
   "cell_type": "markdown",
   "id": "ed6ec2db",
   "metadata": {},
   "source": [
    "#### CURSO"
   ]
  },
  {
   "cell_type": "code",
   "execution_count": 22,
   "id": "3c45a5f2",
   "metadata": {},
   "outputs": [
    {
     "name": "stdout",
     "output_type": "stream",
     "text": [
      "Instancias de curso únicas a crear: 4\n",
      "✓ 4 instancias de CURSO insertadas correctamente\n"
     ]
    }
   ],
   "source": [
    "# --- INSERCIÓN EN CURSO ---\n",
    "\n",
    "# 1. PREPARACIÓN: Etiquetar las verticales en los DataFrames\n",
    "# Asignamos la vertical correspondiente a cada conjunto de datos\n",
    "df_alumnos_ds['Vertical'] = 'DS'\n",
    "df_alumnos_fs['Vertical'] = 'FS'\n",
    "\n",
    "# Consolidamos todos los alumnos en un único DataFrame\n",
    "df_alumnos_completo = pd.concat([df_alumnos_ds, df_alumnos_fs]).reset_index(drop=True)\n",
    "\n",
    "\n",
    "# 2. IDENTIFICACIÓN DE INSTANCIAS ÚNICAS DE CURSO\n",
    "# Extraemos las combinaciones únicas de (Promoción, Campus, Vertical)\n",
    "df_instancias_curso = df_alumnos_completo[\n",
    "    [\"Promoción\", \"Fecha_comienzo\", \"Campus\", \"Vertical\"]\n",
    "].drop_duplicates().reset_index(drop=True)\n",
    "\n",
    "print(f\"Instancias de curso únicas a crear: {len(df_instancias_curso)}\")\n",
    "\n",
    "\n",
    "# 3. CREAR LISTA DE TUPLAS CON LOS IDs CORRESPONDIENTES\n",
    "cursos_datos = []\n",
    "\n",
    "# Iteramos sobre cada instancia única para hacer los lookups necesarios\n",
    "for index, row in df_instancias_curso.iterrows():\n",
    "    \n",
    "    # 3.1 LOOKUP 1: Obtener PromocionID\n",
    "    sql_promocion = \"SELECT PromocionID FROM PROMOCION WHERE Mes = ? AND Fecha_comienzo = ?\"\n",
    "    cursor.execute(sql_promocion, (row['Promoción'], row['Fecha_comienzo']))\n",
    "    promocion_id = cursor.fetchone()[0]\n",
    "    \n",
    "    # 3.2 LOOKUP 2: Obtener VerticalID\n",
    "    sql_vertical = \"SELECT VerticalID FROM VERTICALES WHERE Nombre = ?\"\n",
    "    cursor.execute(sql_vertical, (row['Vertical'],))\n",
    "    vertical_id = cursor.fetchone()[0]\n",
    "    \n",
    "    # 3.3 LOOKUP 3: Obtener CampusID\n",
    "    sql_campus = \"SELECT CampusID FROM CAMPUS WHERE Ciudad = ?\"\n",
    "    cursor.execute(sql_campus, (row['Campus'],))\n",
    "    campus_id = cursor.fetchone()[0]\n",
    "    \n",
    "    # Añadimos la tupla (PromocionID, VerticalID, CampusID) a la lista\n",
    "    cursos_datos.append((promocion_id, vertical_id, campus_id))\n",
    "\n",
    "\n",
    "# 4. INSERCIÓN MASIVA EN LA TABLA CURSO\n",
    "cursor.executemany('''\n",
    "    INSERT INTO CURSO (PromocionID, VerticalID, CampusID)\n",
    "    VALUES (?, ?, ?)\n",
    "''', cursos_datos)\n",
    "\n",
    "# Guardamos los cambios\n",
    "conexion.commit()\n",
    "\n",
    "print(f\"✓ {len(cursos_datos)} instancias de CURSO insertadas correctamente\")"
   ]
  },
  {
   "cell_type": "code",
   "execution_count": 23,
   "id": "ffc0dec4",
   "metadata": {},
   "outputs": [
    {
     "name": "stdout",
     "output_type": "stream",
     "text": [
      "\n",
      "Instancias de CURSO creadas:\n",
      "============================================================\n"
     ]
    },
    {
     "data": {
      "text/html": [
       "<div>\n",
       "<style scoped>\n",
       "    .dataframe tbody tr th:only-of-type {\n",
       "        vertical-align: middle;\n",
       "    }\n",
       "\n",
       "    .dataframe tbody tr th {\n",
       "        vertical-align: top;\n",
       "    }\n",
       "\n",
       "    .dataframe thead th {\n",
       "        text-align: right;\n",
       "    }\n",
       "</style>\n",
       "<table border=\"1\" class=\"dataframe\">\n",
       "  <thead>\n",
       "    <tr style=\"text-align: right;\">\n",
       "      <th></th>\n",
       "      <th>CursoID</th>\n",
       "      <th>Vertical</th>\n",
       "      <th>Promoción</th>\n",
       "      <th>Campus</th>\n",
       "      <th>Fecha_comienzo</th>\n",
       "    </tr>\n",
       "  </thead>\n",
       "  <tbody>\n",
       "    <tr>\n",
       "      <th>0</th>\n",
       "      <td>2</td>\n",
       "      <td>DS</td>\n",
       "      <td>Febrero</td>\n",
       "      <td>Madrid</td>\n",
       "      <td>12/02/2024</td>\n",
       "    </tr>\n",
       "    <tr>\n",
       "      <th>1</th>\n",
       "      <td>1</td>\n",
       "      <td>DS</td>\n",
       "      <td>Septiembre</td>\n",
       "      <td>Madrid</td>\n",
       "      <td>18/09/2023</td>\n",
       "    </tr>\n",
       "    <tr>\n",
       "      <th>2</th>\n",
       "      <td>4</td>\n",
       "      <td>FS</td>\n",
       "      <td>Febrero</td>\n",
       "      <td>Valencia</td>\n",
       "      <td>12/02/2024</td>\n",
       "    </tr>\n",
       "    <tr>\n",
       "      <th>3</th>\n",
       "      <td>3</td>\n",
       "      <td>FS</td>\n",
       "      <td>Septiembre</td>\n",
       "      <td>Madrid</td>\n",
       "      <td>18/09/2023</td>\n",
       "    </tr>\n",
       "  </tbody>\n",
       "</table>\n",
       "</div>"
      ],
      "text/plain": [
       "   CursoID Vertical   Promoción    Campus Fecha_comienzo\n",
       "0        2       DS     Febrero    Madrid     12/02/2024\n",
       "1        1       DS  Septiembre    Madrid     18/09/2023\n",
       "2        4       FS     Febrero  Valencia     12/02/2024\n",
       "3        3       FS  Septiembre    Madrid     18/09/2023"
      ]
     },
     "metadata": {},
     "output_type": "display_data"
    }
   ],
   "source": [
    "# --- CONSULTA DE VERIFICACIÓN: VER LAS INSTANCIAS DE CURSO CREADAS ---\n",
    "\n",
    "sql_verificacion = \"\"\"\n",
    "SELECT\n",
    "    c.CursoID,\n",
    "    v.Nombre AS Vertical,\n",
    "    p.Mes AS Promoción,\n",
    "    ca.Ciudad AS Campus,\n",
    "    p.Fecha_comienzo\n",
    "FROM\n",
    "    CURSO c\n",
    "JOIN VERTICALES v ON c.VerticalID = v.VerticalID\n",
    "JOIN PROMOCION p ON c.PromocionID = p.PromocionID\n",
    "JOIN CAMPUS ca ON c.CampusID = ca.CampusID\n",
    "ORDER BY Vertical, Promoción, Campus;\n",
    "\"\"\"\n",
    "\n",
    "df_cursos_verificacion = pd.read_sql_query(sql_verificacion, conexion)\n",
    "\n",
    "print(\"\\nInstancias de CURSO creadas:\")\n",
    "print(\"=\" * 60)\n",
    "display(df_cursos_verificacion)"
   ]
  },
  {
   "cell_type": "markdown",
   "id": "b7b5a55a",
   "metadata": {},
   "source": [
    "#### CURSO_PROFESOR"
   ]
  },
  {
   "cell_type": "code",
   "execution_count": 24,
   "id": "f9621c9e",
   "metadata": {},
   "outputs": [
    {
     "name": "stdout",
     "output_type": "stream",
     "text": [
      "Asignaciones de profesor/curso únicas a crear: 8\n",
      "✓ 8 asignaciones de CURSO_PROFESOR insertadas correctamente\n"
     ]
    }
   ],
   "source": [
    "# --- INSERCIÓN EN CURSO_PROFESOR ---\n",
    "\n",
    "# 1. PASO LOOKUP: Obtener IDs de la BD para profesores, cursos, verticales y campus.\n",
    "\n",
    "# Obtener IDs de los profesores\n",
    "sql_profesores_id = \"SELECT ProfesorID, Nombre, Rol, Modalidad FROM PROFESORES\"\n",
    "df_profesores_id = pd.read_sql_query(sql_profesores_id, conexion)\n",
    "\n",
    "# Obtener IDs de los cursos con sus dimensiones\n",
    "sql_cursos_dim = \"\"\"\n",
    "SELECT\n",
    "    c.CursoID,\n",
    "    v.Nombre AS Vertical,\n",
    "    p.Mes AS Promocion, -- Asume 'Promocion' es el nombre correcto (ajusta si es 'Promoción')\n",
    "    ca.Ciudad AS Campus\n",
    "FROM\n",
    "    CURSO c\n",
    "JOIN VERTICALES v ON c.VerticalID = v.VerticalID\n",
    "JOIN PROMOCION p ON c.PromocionID = p.PromocionID\n",
    "JOIN CAMPUS ca ON c.CampusID = ca.CampusID;\n",
    "\"\"\"\n",
    "df_cursos_dim = pd.read_sql_query(sql_cursos_dim, conexion)\n",
    "\n",
    "\n",
    "# 2. COMBINAR DATOS (df_claustro, Cursos, Profesores)\n",
    "\n",
    "# 2.1. Unir el DataFrame de claustro (df_claustro) con los IDs de los profesores\n",
    "# Usamos 'Nombre' para la unión. Esto añade el ProfesorID a df_claustro.\n",
    "df_claustro_con_profid = pd.merge(\n",
    "    df_claustro,\n",
    "    df_profesores_id[['ProfesorID', 'Nombre']],\n",
    "    on='Nombre',\n",
    "    how='inner'\n",
    ")\n",
    "# Renombramos 'Rol' a 'RolEnCurso' para la tabla puente\n",
    "df_claustro_con_profid = df_claustro_con_profid.rename(columns={'Rol': 'RolEnCurso'})\n",
    "\n",
    "\n",
    "# 2.2. Unir con la información de los cursos (CursoID)\n",
    "# Usamos las claves de dimensión: 'Vertical', 'Promocion', 'Campus'\n",
    "df_curso_profesor_final = pd.merge(\n",
    "    df_claustro_con_profid,\n",
    "    df_cursos_dim,\n",
    "    on=['Vertical', 'Promocion', 'Campus'], # ¡Asegúrate de que 'Promocion' coincide con el nombre real!\n",
    "    how='inner'\n",
    ")\n",
    "\n",
    "\n",
    "# 3. PREPARAR DATOS PARA LA INSERCIÓN\n",
    "# Seleccionar solo las columnas necesarias para la inserción\n",
    "datos_curso_profesor = df_curso_profesor_final[[\n",
    "    \"CursoID\",\n",
    "    \"ProfesorID\",\n",
    "    \"RolEnCurso\"\n",
    "]].drop_duplicates().values.tolist()\n",
    "\n",
    "\n",
    "print(f\"Asignaciones de profesor/curso únicas a crear: {len(datos_curso_profesor)}\")\n",
    "\n",
    "# 4. INSERCIÓN MASIVA EN LA TABLA CURSO_PROFESOR\n",
    "cursor.executemany('''\n",
    "    INSERT OR IGNORE INTO CURSO_PROFESOR (CursoID, ProfesorID, RolEnCurso)\n",
    "    VALUES (?, ?, ?)\n",
    "''', datos_curso_profesor)\n",
    "\n",
    "# Guardamos los cambios\n",
    "conexion.commit()\n",
    "\n",
    "print(f\"✓ {len(datos_curso_profesor)} asignaciones de CURSO_PROFESOR insertadas correctamente\")"
   ]
  },
  {
   "cell_type": "markdown",
   "id": "c96acea8",
   "metadata": {},
   "source": [
    "#### MATRÍCULAS"
   ]
  },
  {
   "cell_type": "code",
   "execution_count": 29,
   "id": "7f92a5e6",
   "metadata": {},
   "outputs": [
    {
     "name": "stdout",
     "output_type": "stream",
     "text": [
      "Matrículas únicas a crear: 52\n",
      "✓ 52 matrículas insertadas correctamente\n",
      "\n",
      "Matrículas creadas (primeras 5):\n",
      "======================================================================\n"
     ]
    },
    {
     "data": {
      "text/html": [
       "<div>\n",
       "<style scoped>\n",
       "    .dataframe tbody tr th:only-of-type {\n",
       "        vertical-align: middle;\n",
       "    }\n",
       "\n",
       "    .dataframe tbody tr th {\n",
       "        vertical-align: top;\n",
       "    }\n",
       "\n",
       "    .dataframe thead th {\n",
       "        text-align: right;\n",
       "    }\n",
       "</style>\n",
       "<table border=\"1\" class=\"dataframe\">\n",
       "  <thead>\n",
       "    <tr style=\"text-align: right;\">\n",
       "      <th></th>\n",
       "      <th>CursoID</th>\n",
       "      <th>Alumno</th>\n",
       "      <th>Vertical</th>\n",
       "      <th>Promoción</th>\n",
       "      <th>Campus</th>\n",
       "      <th>FechaInscripcion</th>\n",
       "    </tr>\n",
       "  </thead>\n",
       "  <tbody>\n",
       "    <tr>\n",
       "      <th>0</th>\n",
       "      <td>1</td>\n",
       "      <td>Abraham Vélez</td>\n",
       "      <td>DS</td>\n",
       "      <td>Septiembre</td>\n",
       "      <td>Madrid</td>\n",
       "      <td>18/09/2023</td>\n",
       "    </tr>\n",
       "    <tr>\n",
       "      <th>1</th>\n",
       "      <td>3</td>\n",
       "      <td>Aitana Sebastián</td>\n",
       "      <td>FS</td>\n",
       "      <td>Septiembre</td>\n",
       "      <td>Madrid</td>\n",
       "      <td>18/09/2023</td>\n",
       "    </tr>\n",
       "    <tr>\n",
       "      <th>2</th>\n",
       "      <td>3</td>\n",
       "      <td>Albino Macias</td>\n",
       "      <td>FS</td>\n",
       "      <td>Septiembre</td>\n",
       "      <td>Madrid</td>\n",
       "      <td>18/09/2023</td>\n",
       "    </tr>\n",
       "    <tr>\n",
       "      <th>3</th>\n",
       "      <td>4</td>\n",
       "      <td>Alejandra Vilaplana</td>\n",
       "      <td>FS</td>\n",
       "      <td>Febrero</td>\n",
       "      <td>Valencia</td>\n",
       "      <td>12/02/2024</td>\n",
       "    </tr>\n",
       "    <tr>\n",
       "      <th>4</th>\n",
       "      <td>3</td>\n",
       "      <td>Amor Larrañaga</td>\n",
       "      <td>FS</td>\n",
       "      <td>Septiembre</td>\n",
       "      <td>Madrid</td>\n",
       "      <td>18/09/2023</td>\n",
       "    </tr>\n",
       "  </tbody>\n",
       "</table>\n",
       "</div>"
      ],
      "text/plain": [
       "   CursoID               Alumno Vertical   Promoción    Campus  \\\n",
       "0        1        Abraham Vélez       DS  Septiembre    Madrid   \n",
       "1        3     Aitana Sebastián       FS  Septiembre    Madrid   \n",
       "2        3        Albino Macias       FS  Septiembre    Madrid   \n",
       "3        4  Alejandra Vilaplana       FS     Febrero  Valencia   \n",
       "4        3       Amor Larrañaga       FS  Septiembre    Madrid   \n",
       "\n",
       "  FechaInscripcion  \n",
       "0       18/09/2023  \n",
       "1       18/09/2023  \n",
       "2       18/09/2023  \n",
       "3       12/02/2024  \n",
       "4       18/09/2023  "
      ]
     },
     "metadata": {},
     "output_type": "display_data"
    }
   ],
   "source": [
    "# --- INSERCIÓN EN MATRICULAS ---\n",
    "\n",
    "# 1. PASO LOOKUP: Obtener IDs de la BD para cursos y alumnos.\n",
    "\n",
    "# 1.1. Obtener IDs de los alumnos (usando Email como clave)\n",
    "sql_alumnos_id = \"SELECT AlumnoID, Email FROM ALUMNOS\"\n",
    "df_alumnos_id = pd.read_sql_query(sql_alumnos_id, conexion)\n",
    "\n",
    "\n",
    "# 1.2. Obtener IDs de los cursos con sus dimensiones (Vertical, Promocion, Campus)\n",
    "# IMPORTANTE: Observa que la columna que viene de la BD (p.Mes) debe coincidir\n",
    "# con la que usas en el DataFrame (df_alumnos_completo).\n",
    "# Asumo que en la BD se guarda como 'Promocion' (sin tilde), que es lo que SQL devuelve.\n",
    "sql_cursos_dim = \"\"\"\n",
    "SELECT\n",
    "    c.CursoID,\n",
    "    v.Nombre AS Vertical,\n",
    "    p.Mes AS PromocionBD, -- Renombro a PromocionBD para evitar conflictos\n",
    "    ca.Ciudad AS Campus,\n",
    "    p.Fecha_comienzo\n",
    "FROM\n",
    "    CURSO c\n",
    "JOIN VERTICALES v ON c.VerticalID = v.VerticalID\n",
    "JOIN PROMOCION p ON c.PromocionID = p.PromocionID\n",
    "JOIN CAMPUS ca ON c.CampusID = ca.CampusID;\n",
    "\"\"\"\n",
    "df_cursos_dim = pd.read_sql_query(sql_cursos_dim, conexion)\n",
    "\n",
    "\n",
    "# 2. COMBINAR DATOS (df_alumnos_completo, Cursos, Alumnos)\n",
    "\n",
    "# 2.1. Preparar df_alumnos_completo para el merge\n",
    "# *** CORRECCIÓN CLAVE AQUÍ: Usamos 'Promoción' (con tilde) para el DataFrame. ***\n",
    "df_alumnos_merge = df_alumnos_completo[[\n",
    "    'Email', \n",
    "    'Vertical', \n",
    "    'Promoción', # <-- CORREGIDO: Usar 'Promoción' para leer el DataFrame\n",
    "    'Campus', \n",
    "    'Fecha_comienzo'\n",
    "]].drop_duplicates().reset_index(drop=True)\n",
    "\n",
    "# 2.1.1. NORMALIZACIÓN: Renombramos la columna del DataFrame para que coincida con la BD (si se guarda sin tilde)\n",
    "# Asumo que el valor del mes de promoción en tu df_alumnos_completo ('Septiembre', 'Febrero') es idéntico a lo que está en PROMOCION.Mes.\n",
    "df_alumnos_merge = df_alumnos_merge.rename(columns={'Promoción': 'PromocionBD'}) \n",
    "\n",
    "# 2.2. Unir el DataFrame de alumnos con sus IDs\n",
    "df_matriculas_base = pd.merge(\n",
    "    df_alumnos_merge,\n",
    "    df_alumnos_id,\n",
    "    on='Email',\n",
    "    how='inner'\n",
    ")\n",
    "\n",
    "\n",
    "# 2.3. Unir con la información de los cursos (CursoID)\n",
    "# Usamos la columna PromocionBD (que ahora tiene los datos del df_alumnos_completo)\n",
    "df_matriculas_final = pd.merge(\n",
    "    df_matriculas_base,\n",
    "    df_cursos_dim[['CursoID', 'Vertical', 'PromocionBD', 'Campus']],\n",
    "    on=['Vertical', 'PromocionBD', 'Campus'], # <-- Usamos PromocionBD para la unión\n",
    "    how='inner'\n",
    ")\n",
    "\n",
    "# 3. PREPARAR DATOS PARA LA INSERCIÓN\n",
    "\n",
    "# La fecha de inscripción se toma como la Fecha_comienzo de la promoción\n",
    "df_matriculas_final['FechaInscripcion'] = df_matriculas_final['Fecha_comienzo']\n",
    "\n",
    "# Seleccionar solo las columnas necesarias: (CursoID, AlumnoID, FechaInscripcion)\n",
    "datos_matriculas = df_matriculas_final[[\n",
    "    \"CursoID\",\n",
    "    \"AlumnoID\",\n",
    "    \"FechaInscripcion\"\n",
    "]].drop_duplicates().values.tolist()\n",
    "\n",
    "\n",
    "print(f\"Matrículas únicas a crear: {len(datos_matriculas)}\")\n",
    "\n",
    "# 4. INSERCIÓN MASIVA EN LA TABLA MATRICULAS\n",
    "cursor.executemany('''\n",
    "    INSERT OR IGNORE INTO MATRICULAS (CursoID, AlumnoID, FechaInscripcion)\n",
    "    VALUES (?, ?, ?)\n",
    "''', datos_matriculas)\n",
    "\n",
    "# Guardamos los cambios\n",
    "conexion.commit()\n",
    "\n",
    "print(f\"✓ {len(datos_matriculas)} matrículas insertadas correctamente\")\n",
    "\n",
    "# --- CONSULTA DE VERIFICACIÓN (Opcional) ---\n",
    "sql_verificacion_mat = \"\"\"\n",
    "SELECT\n",
    "    m.CursoID,\n",
    "    a.Nombre AS Alumno,\n",
    "    v.Nombre AS Vertical,\n",
    "    p.Mes AS Promoción,\n",
    "    ca.Ciudad AS Campus,\n",
    "    m.FechaInscripcion\n",
    "FROM\n",
    "    MATRICULAS m\n",
    "JOIN CURSO c ON m.CursoID = c.CursoID\n",
    "JOIN ALUMNOS a ON m.AlumnoID = a.AlumnoID\n",
    "JOIN VERTICALES v ON c.VerticalID = v.VerticalID\n",
    "JOIN PROMOCION p ON c.PromocionID = p.PromocionID\n",
    "JOIN CAMPUS ca ON c.CampusID = ca.CampusID\n",
    "ORDER BY a.Nombre, v.Nombre;\n",
    "\"\"\"\n",
    "\n",
    "df_matriculas_verificacion = pd.read_sql_query(sql_verificacion_mat, conexion)\n",
    "\n",
    "print(\"\\nMatrículas creadas (primeras 5):\")\n",
    "print(\"=\" * 70)\n",
    "display(df_matriculas_verificacion.head())"
   ]
  },
  {
   "cell_type": "markdown",
   "id": "e41fa986",
   "metadata": {},
   "source": [
    "#### CALIFICACIONES"
   ]
  },
  {
   "cell_type": "code",
   "execution_count": 30,
   "id": "342dc7a0",
   "metadata": {},
   "outputs": [
    {
     "name": "stdout",
     "output_type": "stream",
     "text": [
      "Calificaciones únicas a crear: 260\n",
      "✓ 260 calificaciones insertadas correctamente\n",
      "\n",
      "Calificaciones creadas (primeras 10):\n",
      "======================================================================\n"
     ]
    },
    {
     "data": {
      "text/html": [
       "<div>\n",
       "<style scoped>\n",
       "    .dataframe tbody tr th:only-of-type {\n",
       "        vertical-align: middle;\n",
       "    }\n",
       "\n",
       "    .dataframe tbody tr th {\n",
       "        vertical-align: top;\n",
       "    }\n",
       "\n",
       "    .dataframe thead th {\n",
       "        text-align: right;\n",
       "    }\n",
       "</style>\n",
       "<table border=\"1\" class=\"dataframe\">\n",
       "  <thead>\n",
       "    <tr style=\"text-align: right;\">\n",
       "      <th></th>\n",
       "      <th>CursoID</th>\n",
       "      <th>Alumno</th>\n",
       "      <th>Proyecto</th>\n",
       "      <th>Nota</th>\n",
       "    </tr>\n",
       "  </thead>\n",
       "  <tbody>\n",
       "    <tr>\n",
       "      <th>0</th>\n",
       "      <td>1</td>\n",
       "      <td>Abraham Vélez</td>\n",
       "      <td>Proyecto_BBDD</td>\n",
       "      <td>0</td>\n",
       "    </tr>\n",
       "    <tr>\n",
       "      <th>1</th>\n",
       "      <td>1</td>\n",
       "      <td>Abraham Vélez</td>\n",
       "      <td>Proyecto_Deployment</td>\n",
       "      <td>1</td>\n",
       "    </tr>\n",
       "    <tr>\n",
       "      <th>2</th>\n",
       "      <td>1</td>\n",
       "      <td>Abraham Vélez</td>\n",
       "      <td>Proyecto_EDA</td>\n",
       "      <td>0</td>\n",
       "    </tr>\n",
       "    <tr>\n",
       "      <th>3</th>\n",
       "      <td>1</td>\n",
       "      <td>Abraham Vélez</td>\n",
       "      <td>Proyecto_HLF</td>\n",
       "      <td>1</td>\n",
       "    </tr>\n",
       "    <tr>\n",
       "      <th>4</th>\n",
       "      <td>1</td>\n",
       "      <td>Abraham Vélez</td>\n",
       "      <td>Proyecto_ML</td>\n",
       "      <td>1</td>\n",
       "    </tr>\n",
       "    <tr>\n",
       "      <th>5</th>\n",
       "      <td>3</td>\n",
       "      <td>Aitana Sebastián</td>\n",
       "      <td>Proyecto_Backend</td>\n",
       "      <td>1</td>\n",
       "    </tr>\n",
       "    <tr>\n",
       "      <th>6</th>\n",
       "      <td>3</td>\n",
       "      <td>Aitana Sebastián</td>\n",
       "      <td>Proyecto_FrontEnd</td>\n",
       "      <td>0</td>\n",
       "    </tr>\n",
       "    <tr>\n",
       "      <th>7</th>\n",
       "      <td>3</td>\n",
       "      <td>Aitana Sebastián</td>\n",
       "      <td>Proyecto_FullSatck</td>\n",
       "      <td>1</td>\n",
       "    </tr>\n",
       "    <tr>\n",
       "      <th>8</th>\n",
       "      <td>3</td>\n",
       "      <td>Aitana Sebastián</td>\n",
       "      <td>Proyecto_React</td>\n",
       "      <td>0</td>\n",
       "    </tr>\n",
       "    <tr>\n",
       "      <th>9</th>\n",
       "      <td>3</td>\n",
       "      <td>Aitana Sebastián</td>\n",
       "      <td>Proyecto_WebDev</td>\n",
       "      <td>1</td>\n",
       "    </tr>\n",
       "  </tbody>\n",
       "</table>\n",
       "</div>"
      ],
      "text/plain": [
       "   CursoID            Alumno             Proyecto Nota\n",
       "0        1     Abraham Vélez        Proyecto_BBDD    0\n",
       "1        1     Abraham Vélez  Proyecto_Deployment    1\n",
       "2        1     Abraham Vélez         Proyecto_EDA    0\n",
       "3        1     Abraham Vélez         Proyecto_HLF    1\n",
       "4        1     Abraham Vélez          Proyecto_ML    1\n",
       "5        3  Aitana Sebastián     Proyecto_Backend    1\n",
       "6        3  Aitana Sebastián    Proyecto_FrontEnd    0\n",
       "7        3  Aitana Sebastián   Proyecto_FullSatck    1\n",
       "8        3  Aitana Sebastián       Proyecto_React    0\n",
       "9        3  Aitana Sebastián      Proyecto_WebDev    1"
      ]
     },
     "metadata": {},
     "output_type": "display_data"
    }
   ],
   "source": [
    "# --- INSERCIÓN EN CALIFICACIONES ---\n",
    "from datetime import datetime\n",
    "\n",
    "# 1. PREPROCESAMIENTO: Mapear notas y despivotar el DataFrame de alumnos\n",
    "\n",
    "# Definimos el mapeo de \"Apto\" / \"No Apto\" a valores numéricos (0 y 1)\n",
    "mapeo_notas = {'Apto': 1, 'No Apto': 0}\n",
    "\n",
    "# Identificar las columnas de proyectos en df_alumnos_completo\n",
    "columnas_proyecto = [col for col in df_alumnos_completo.columns if col.startswith('Proyecto_')]\n",
    "\n",
    "# Hacemos un 'unpivot' (melt) para tener una fila por cada calificación (Alumno, Curso, Proyecto, Nota)\n",
    "# *** CLAVE: Usamos 'Promoción' (con tilde) para acceder a la columna del DataFrame ***\n",
    "df_calificaciones_melt = df_alumnos_completo.melt(\n",
    "    id_vars=['Email', 'Promoción', 'Campus', 'Vertical'], \n",
    "    value_vars=columnas_proyecto,\n",
    "    var_name='NombreProyecto',\n",
    "    value_name='Nota_Literal'\n",
    ")\n",
    "\n",
    "# 1.1 Limpiar y transformar\n",
    "# Eliminar las filas donde no hay nota (NaN)\n",
    "df_calificaciones_melt.dropna(subset=['Nota_Literal'], inplace=True)\n",
    "\n",
    "# Convertir la nota literal a numérica usando el mapa\n",
    "df_calificaciones_melt['Nota'] = df_calificaciones_melt['Nota_Literal'].map(mapeo_notas)\n",
    "\n",
    "# Normalizar el nombre de la columna Promoción para el merge con la BD\n",
    "df_calificaciones_melt = df_calificaciones_melt.rename(columns={'Promoción': 'PromocionBD'})\n",
    "\n",
    "# 2. LOOKUP Y COMBINACIÓN DE IDs\n",
    "\n",
    "# 2.1. Obtener todos los IDs de Proyectos\n",
    "sql_proyectos = \"SELECT ProyectoID, Nombre FROM PROYECTOS\"\n",
    "df_proyectos_bd = pd.read_sql_query(sql_proyectos, conexion)\n",
    "\n",
    "# 2.2. Obtener el AlumnoID y CursoID desde la tabla MATRICULAS (que ya contiene los vínculos correctos)\n",
    "# Reutilizamos la lógica del lookup de MATRICULAS para obtener la clave de curso/alumno\n",
    "sql_matriculas_lookup = \"\"\"\n",
    "SELECT\n",
    "    m.CursoID,\n",
    "    m.AlumnoID,\n",
    "    a.Email,\n",
    "    v.Nombre AS Vertical,\n",
    "    p.Mes AS PromocionBD,\n",
    "    ca.Ciudad AS Campus\n",
    "FROM\n",
    "    MATRICULAS m\n",
    "JOIN CURSO c ON m.CursoID = c.CursoID\n",
    "JOIN ALUMNOS a ON m.AlumnoID = a.AlumnoID\n",
    "JOIN VERTICALES v ON c.VerticalID = v.VerticalID\n",
    "JOIN PROMOCION p ON c.PromocionID = p.PromocionID\n",
    "JOIN CAMPUS ca ON c.CampusID = ca.CampusID;\n",
    "\"\"\"\n",
    "df_matriculas_lookup = pd.read_sql_query(sql_matriculas_lookup, conexion)\n",
    "\n",
    "\n",
    "# 2.3. Unir las Calificaciones (melted) con los IDs de Matrículas\n",
    "# Clave de unión: Email, Vertical, PromocionBD, Campus\n",
    "df_calificaciones_con_ids = pd.merge(\n",
    "    df_calificaciones_melt,\n",
    "    df_matriculas_lookup[['CursoID', 'AlumnoID', 'Email', 'Vertical', 'PromocionBD', 'Campus']],\n",
    "    on=['Email', 'Vertical', 'PromocionBD', 'Campus'],\n",
    "    how='inner'\n",
    ")\n",
    "\n",
    "\n",
    "# 2.4. Unir con los IDs de Proyectos\n",
    "# Clave de unión: NombreProyecto (del melt) con Nombre (de la tabla PROYECTOS)\n",
    "df_calificaciones_final = pd.merge(\n",
    "    df_calificaciones_con_ids,\n",
    "    df_proyectos_bd,\n",
    "    left_on='NombreProyecto',\n",
    "    right_on='Nombre',\n",
    "    how='inner'\n",
    ")\n",
    "\n",
    "# 3. PREPARAR DATOS PARA LA INSERCIÓN\n",
    "\n",
    "# Añadimos una fecha de evaluación simulada\n",
    "fecha_evaluacion = datetime.now().strftime('%Y-%m-%d')\n",
    "df_calificaciones_final['FechaEvaluacion'] = fecha_evaluacion\n",
    "\n",
    "\n",
    "# Seleccionar las columnas para la inserción: (CursoID, AlumnoID, ProyectoID, Nota, FechaEvaluacion)\n",
    "datos_calificaciones = df_calificaciones_final[[\n",
    "    \"CursoID\",\n",
    "    \"AlumnoID\",\n",
    "    \"ProyectoID\",\n",
    "    \"Nota\",\n",
    "    \"FechaEvaluacion\"\n",
    "]].drop_duplicates().values.tolist()\n",
    "\n",
    "\n",
    "print(f\"Calificaciones únicas a crear: {len(datos_calificaciones)}\")\n",
    "\n",
    "# 4. INSERCIÓN MASIVA EN LA TABLA CALIFICACIONES\n",
    "cursor.executemany('''\n",
    "    INSERT OR IGNORE INTO CALIFICACIONES (CursoID, AlumnoID, ProyectoID, Nota, FechaEvaluacion)\n",
    "    VALUES (?, ?, ?, ?, ?)\n",
    "''', datos_calificaciones)\n",
    "\n",
    "# Guardamos los cambios\n",
    "conexion.commit()\n",
    "\n",
    "print(f\"✓ {len(datos_calificaciones)} calificaciones insertadas correctamente\")\n",
    "\n",
    "# --- CONSULTA DE VERIFICACIÓN (Opcional) ---\n",
    "sql_verificacion_cal = \"\"\"\n",
    "SELECT\n",
    "    c.CursoID,\n",
    "    a.Nombre AS Alumno,\n",
    "    pr.Nombre AS Proyecto,\n",
    "    cal.Nota\n",
    "FROM\n",
    "    CALIFICACIONES cal\n",
    "JOIN ALUMNOS a ON cal.AlumnoID = a.AlumnoID\n",
    "JOIN PROYECTOS pr ON cal.ProyectoID = pr.ProyectoID\n",
    "JOIN CURSO c ON cal.CursoID = c.CursoID\n",
    "ORDER BY Alumno, Proyecto\n",
    "LIMIT 10;\n",
    "\"\"\"\n",
    "\n",
    "df_calificaciones_verificacion = pd.read_sql_query(sql_verificacion_cal, conexion)\n",
    "\n",
    "print(\"\\nCalificaciones creadas (primeras 10):\")\n",
    "print(\"=\" * 70)\n",
    "display(df_calificaciones_verificacion)"
   ]
  },
  {
   "cell_type": "markdown",
   "id": "769b62e0",
   "metadata": {},
   "source": [
    "================================================================================================"
   ]
  },
  {
   "cell_type": "markdown",
   "id": "22f5f243",
   "metadata": {},
   "source": [
    "#### CONSULTAS DE COMPROBACIÓN"
   ]
  },
  {
   "cell_type": "code",
   "execution_count": 41,
   "id": "76da99e0",
   "metadata": {},
   "outputs": [
    {
     "name": "stdout",
     "output_type": "stream",
     "text": [
      "Calificaciones de Leoncio Tena\n"
     ]
    },
    {
     "data": {
      "text/html": [
       "<div>\n",
       "<style scoped>\n",
       "    .dataframe tbody tr th:only-of-type {\n",
       "        vertical-align: middle;\n",
       "    }\n",
       "\n",
       "    .dataframe tbody tr th {\n",
       "        vertical-align: top;\n",
       "    }\n",
       "\n",
       "    .dataframe thead th {\n",
       "        text-align: right;\n",
       "    }\n",
       "</style>\n",
       "<table border=\"1\" class=\"dataframe\">\n",
       "  <thead>\n",
       "    <tr style=\"text-align: right;\">\n",
       "      <th></th>\n",
       "      <th>Alumno</th>\n",
       "      <th>Proyecto</th>\n",
       "      <th>Nota_Numerica</th>\n",
       "    </tr>\n",
       "  </thead>\n",
       "  <tbody>\n",
       "    <tr>\n",
       "      <th>0</th>\n",
       "      <td>Leoncio Tena</td>\n",
       "      <td>Proyecto_BBDD</td>\n",
       "      <td>1</td>\n",
       "    </tr>\n",
       "    <tr>\n",
       "      <th>1</th>\n",
       "      <td>Leoncio Tena</td>\n",
       "      <td>Proyecto_Deployment</td>\n",
       "      <td>1</td>\n",
       "    </tr>\n",
       "    <tr>\n",
       "      <th>2</th>\n",
       "      <td>Leoncio Tena</td>\n",
       "      <td>Proyecto_EDA</td>\n",
       "      <td>1</td>\n",
       "    </tr>\n",
       "    <tr>\n",
       "      <th>3</th>\n",
       "      <td>Leoncio Tena</td>\n",
       "      <td>Proyecto_HLF</td>\n",
       "      <td>1</td>\n",
       "    </tr>\n",
       "    <tr>\n",
       "      <th>4</th>\n",
       "      <td>Leoncio Tena</td>\n",
       "      <td>Proyecto_ML</td>\n",
       "      <td>1</td>\n",
       "    </tr>\n",
       "  </tbody>\n",
       "</table>\n",
       "</div>"
      ],
      "text/plain": [
       "         Alumno             Proyecto Nota_Numerica\n",
       "0  Leoncio Tena        Proyecto_BBDD             1\n",
       "1  Leoncio Tena  Proyecto_Deployment             1\n",
       "2  Leoncio Tena         Proyecto_EDA             1\n",
       "3  Leoncio Tena         Proyecto_HLF             1\n",
       "4  Leoncio Tena          Proyecto_ML             1"
      ]
     },
     "metadata": {},
     "output_type": "display_data"
    }
   ],
   "source": [
    "# Consulta 1:\n",
    "print(\"Calificaciones de Leoncio Tena\")\n",
    "\n",
    "sql_q1 = \"\"\"\n",
    "SELECT\n",
    "    ALUMNOS.Nombre AS Alumno,\n",
    "    PROYECTOS.Nombre AS Proyecto,\n",
    "    CALIFICACIONES.Nota AS Nota_Numerica\n",
    "FROM\n",
    "    ALUMNOS\n",
    "JOIN CALIFICACIONES ON ALUMNOS.AlumnoID = CALIFICACIONES.AlumnoID\n",
    "JOIN PROYECTOS ON CALIFICACIONES.ProyectoID = PROYECTOS.ProyectoID\n",
    "WHERE\n",
    "    ALUMNOS.Nombre = 'Leoncio Tena'\n",
    "ORDER BY\n",
    "    PROYECTOS.Nombre;\n",
    "\"\"\"\n",
    "\n",
    "df_q1 = pd.read_sql_query(sql_q1, conexion)\n",
    "display(df_q1)"
   ]
  },
  {
   "cell_type": "code",
   "execution_count": 38,
   "id": "deb36273",
   "metadata": {},
   "outputs": [
    {
     "name": "stdout",
     "output_type": "stream",
     "text": [
      "Cursos Asignados a Mario Prats\n"
     ]
    },
    {
     "data": {
      "text/html": [
       "<div>\n",
       "<style scoped>\n",
       "    .dataframe tbody tr th:only-of-type {\n",
       "        vertical-align: middle;\n",
       "    }\n",
       "\n",
       "    .dataframe tbody tr th {\n",
       "        vertical-align: top;\n",
       "    }\n",
       "\n",
       "    .dataframe thead th {\n",
       "        text-align: right;\n",
       "    }\n",
       "</style>\n",
       "<table border=\"1\" class=\"dataframe\">\n",
       "  <thead>\n",
       "    <tr style=\"text-align: right;\">\n",
       "      <th></th>\n",
       "      <th>Profesor</th>\n",
       "      <th>Rol</th>\n",
       "      <th>Vertical</th>\n",
       "      <th>Promocion</th>\n",
       "      <th>Campus</th>\n",
       "    </tr>\n",
       "  </thead>\n",
       "  <tbody>\n",
       "    <tr>\n",
       "      <th>0</th>\n",
       "      <td>Mario Prats</td>\n",
       "      <td>LI</td>\n",
       "      <td>FS</td>\n",
       "      <td>Febrero</td>\n",
       "      <td>Valencia</td>\n",
       "    </tr>\n",
       "  </tbody>\n",
       "</table>\n",
       "</div>"
      ],
      "text/plain": [
       "      Profesor Rol Vertical Promocion    Campus\n",
       "0  Mario Prats  LI       FS   Febrero  Valencia"
      ]
     },
     "metadata": {},
     "output_type": "display_data"
    }
   ],
   "source": [
    "# Consulta 2:\n",
    "print(\"Cursos Asignados a Mario Prats\")\n",
    "\n",
    "sql_q2 = \"\"\"\n",
    "SELECT\n",
    "    PROFESORES.Nombre AS Profesor,\n",
    "    CURSO_PROFESOR.RolEnCurso AS Rol,\n",
    "    VERTICALES.Nombre AS Vertical,\n",
    "    PROMOCION.Mes AS Promocion,\n",
    "    CAMPUS.Ciudad AS Campus\n",
    "FROM\n",
    "    PROFESORES\n",
    "JOIN CURSO_PROFESOR ON PROFESORES.ProfesorID = CURSO_PROFESOR.ProfesorID\n",
    "JOIN CURSO ON CURSO_PROFESOR.CursoID = CURSO.CursoID\n",
    "JOIN VERTICALES ON CURSO.VerticalID = VERTICALES.VerticalID\n",
    "JOIN PROMOCION ON CURSO.PromocionID = PROMOCION.PromocionID\n",
    "JOIN CAMPUS ON CURSO.CampusID = CAMPUS.CampusID\n",
    "WHERE\n",
    "    PROFESORES.Nombre = 'Mario Prats';\n",
    "\"\"\"\n",
    "\n",
    "df_q2 = pd.read_sql_query(sql_q2, conexion)\n",
    "display(df_q2)"
   ]
  },
  {
   "cell_type": "code",
   "execution_count": 39,
   "id": "e55e85c5",
   "metadata": {},
   "outputs": [
    {
     "name": "stdout",
     "output_type": "stream",
     "text": [
      "Alumnos del curso DS Septiembre Madrid\n"
     ]
    },
    {
     "data": {
      "text/html": [
       "<div>\n",
       "<style scoped>\n",
       "    .dataframe tbody tr th:only-of-type {\n",
       "        vertical-align: middle;\n",
       "    }\n",
       "\n",
       "    .dataframe tbody tr th {\n",
       "        vertical-align: top;\n",
       "    }\n",
       "\n",
       "    .dataframe thead th {\n",
       "        text-align: right;\n",
       "    }\n",
       "</style>\n",
       "<table border=\"1\" class=\"dataframe\">\n",
       "  <thead>\n",
       "    <tr style=\"text-align: right;\">\n",
       "      <th></th>\n",
       "      <th>Alumno</th>\n",
       "    </tr>\n",
       "  </thead>\n",
       "  <tbody>\n",
       "    <tr>\n",
       "      <th>0</th>\n",
       "      <td>Abraham Vélez</td>\n",
       "    </tr>\n",
       "    <tr>\n",
       "      <th>1</th>\n",
       "      <td>Anita Heredia</td>\n",
       "    </tr>\n",
       "    <tr>\n",
       "      <th>2</th>\n",
       "      <td>Clementina Santos</td>\n",
       "    </tr>\n",
       "    <tr>\n",
       "      <th>3</th>\n",
       "      <td>Daniela Falcó</td>\n",
       "    </tr>\n",
       "    <tr>\n",
       "      <th>4</th>\n",
       "      <td>Eduardo Caparrós</td>\n",
       "    </tr>\n",
       "    <tr>\n",
       "      <th>5</th>\n",
       "      <td>Eli Casas</td>\n",
       "    </tr>\n",
       "    <tr>\n",
       "      <th>6</th>\n",
       "      <td>Ignacio Goicoechea</td>\n",
       "    </tr>\n",
       "    <tr>\n",
       "      <th>7</th>\n",
       "      <td>Jafet Casals</td>\n",
       "    </tr>\n",
       "    <tr>\n",
       "      <th>8</th>\n",
       "      <td>Jorge Manzanares</td>\n",
       "    </tr>\n",
       "    <tr>\n",
       "      <th>9</th>\n",
       "      <td>Leoncio Tena</td>\n",
       "    </tr>\n",
       "    <tr>\n",
       "      <th>10</th>\n",
       "      <td>Maximiliano Menéndez</td>\n",
       "    </tr>\n",
       "    <tr>\n",
       "      <th>11</th>\n",
       "      <td>Merche Prada</td>\n",
       "    </tr>\n",
       "    <tr>\n",
       "      <th>12</th>\n",
       "      <td>Odalys Torrijos</td>\n",
       "    </tr>\n",
       "    <tr>\n",
       "      <th>13</th>\n",
       "      <td>Onofre Adadia</td>\n",
       "    </tr>\n",
       "    <tr>\n",
       "      <th>14</th>\n",
       "      <td>Pilar Abella</td>\n",
       "    </tr>\n",
       "  </tbody>\n",
       "</table>\n",
       "</div>"
      ],
      "text/plain": [
       "                  Alumno\n",
       "0          Abraham Vélez\n",
       "1          Anita Heredia\n",
       "2      Clementina Santos\n",
       "3          Daniela Falcó\n",
       "4       Eduardo Caparrós\n",
       "5              Eli Casas\n",
       "6     Ignacio Goicoechea\n",
       "7           Jafet Casals\n",
       "8       Jorge Manzanares\n",
       "9           Leoncio Tena\n",
       "10  Maximiliano Menéndez\n",
       "11          Merche Prada\n",
       "12       Odalys Torrijos\n",
       "13         Onofre Adadia\n",
       "14          Pilar Abella"
      ]
     },
     "metadata": {},
     "output_type": "display_data"
    }
   ],
   "source": [
    "# Consulta 3\n",
    "print(\"Alumnos del curso DS Septiembre Madrid\")\n",
    "\n",
    "sql_q3 = \"\"\"\n",
    "SELECT\n",
    "    ALUMNOS.Nombre AS Alumno\n",
    "FROM\n",
    "    ALUMNOS\n",
    "JOIN MATRICULAS ON ALUMNOS.AlumnoID = MATRICULAS.AlumnoID\n",
    "JOIN CURSO ON MATRICULAS.CursoID = CURSO.CursoID\n",
    "JOIN VERTICALES ON CURSO.VerticalID = VERTICALES.VerticalID\n",
    "JOIN PROMOCION ON CURSO.PromocionID = PROMOCION.PromocionID\n",
    "JOIN CAMPUS ON CURSO.CampusID = CAMPUS.CampusID\n",
    "WHERE\n",
    "    VERTICALES.Nombre = 'DS'\n",
    "    AND PROMOCION.Mes = 'Septiembre'\n",
    "    AND CAMPUS.Ciudad = 'Madrid'\n",
    "ORDER BY\n",
    "    ALUMNOS.Nombre;\n",
    "\"\"\"\n",
    "\n",
    "df_q3 = pd.read_sql_query(sql_q3, conexion)\n",
    "display(df_q3)"
   ]
  },
  {
   "cell_type": "code",
   "execution_count": 40,
   "id": "348c5eac",
   "metadata": {},
   "outputs": [
    {
     "name": "stdout",
     "output_type": "stream",
     "text": [
      "Cantidad de Alumnos Aprobados en Proyecto_ML\n"
     ]
    },
    {
     "data": {
      "text/html": [
       "<div>\n",
       "<style scoped>\n",
       "    .dataframe tbody tr th:only-of-type {\n",
       "        vertical-align: middle;\n",
       "    }\n",
       "\n",
       "    .dataframe tbody tr th {\n",
       "        vertical-align: top;\n",
       "    }\n",
       "\n",
       "    .dataframe thead th {\n",
       "        text-align: right;\n",
       "    }\n",
       "</style>\n",
       "<table border=\"1\" class=\"dataframe\">\n",
       "  <thead>\n",
       "    <tr style=\"text-align: right;\">\n",
       "      <th></th>\n",
       "      <th>Proyecto</th>\n",
       "      <th>Total_Aprobados</th>\n",
       "    </tr>\n",
       "  </thead>\n",
       "  <tbody>\n",
       "    <tr>\n",
       "      <th>0</th>\n",
       "      <td>Proyecto_ML</td>\n",
       "      <td>22</td>\n",
       "    </tr>\n",
       "  </tbody>\n",
       "</table>\n",
       "</div>"
      ],
      "text/plain": [
       "      Proyecto  Total_Aprobados\n",
       "0  Proyecto_ML               22"
      ]
     },
     "metadata": {},
     "output_type": "display_data"
    }
   ],
   "source": [
    "# Consulta 4\n",
    "print(\"Cantidad de Alumnos Aprobados en Proyecto_ML\")\n",
    "\n",
    "sql_q4 = \"\"\"\n",
    "SELECT\n",
    "    PROYECTOS.Nombre AS Proyecto,\n",
    "    COUNT(CALIFICACIONES.Nota) AS Total_Aprobados\n",
    "FROM\n",
    "    CALIFICACIONES\n",
    "JOIN PROYECTOS ON CALIFICACIONES.ProyectoID = PROYECTOS.ProyectoID\n",
    "WHERE\n",
    "    PROYECTOS.Nombre = 'Proyecto_ML' AND CALIFICACIONES.Nota = 1 -- Filtro directo\n",
    "GROUP BY\n",
    "    PROYECTOS.Nombre;\n",
    "\"\"\"\n",
    "\n",
    "df_q4 = pd.read_sql_query(sql_q4, conexion)\n",
    "display(df_q4)"
   ]
  },
  {
   "cell_type": "code",
   "execution_count": 42,
   "id": "da679492",
   "metadata": {},
   "outputs": [
    {
     "name": "stdout",
     "output_type": "stream",
     "text": [
      "Asignación de Profesores a Cursos\n"
     ]
    },
    {
     "data": {
      "text/html": [
       "<div>\n",
       "<style scoped>\n",
       "    .dataframe tbody tr th:only-of-type {\n",
       "        vertical-align: middle;\n",
       "    }\n",
       "\n",
       "    .dataframe tbody tr th {\n",
       "        vertical-align: top;\n",
       "    }\n",
       "\n",
       "    .dataframe thead th {\n",
       "        text-align: right;\n",
       "    }\n",
       "</style>\n",
       "<table border=\"1\" class=\"dataframe\">\n",
       "  <thead>\n",
       "    <tr style=\"text-align: right;\">\n",
       "      <th></th>\n",
       "      <th>Profesor</th>\n",
       "      <th>Vertical</th>\n",
       "      <th>Promocion</th>\n",
       "      <th>Campus</th>\n",
       "      <th>Rol</th>\n",
       "    </tr>\n",
       "  </thead>\n",
       "  <tbody>\n",
       "    <tr>\n",
       "      <th>0</th>\n",
       "      <td>Ana Sofía Ferrer</td>\n",
       "      <td>FS</td>\n",
       "      <td>Febrero</td>\n",
       "      <td>Valencia</td>\n",
       "      <td>TA</td>\n",
       "    </tr>\n",
       "    <tr>\n",
       "      <th>1</th>\n",
       "      <td>Anna Feliu</td>\n",
       "      <td>FS</td>\n",
       "      <td>Septiembre</td>\n",
       "      <td>Madrid</td>\n",
       "      <td>TA</td>\n",
       "    </tr>\n",
       "    <tr>\n",
       "      <th>2</th>\n",
       "      <td>Ariel Lledó</td>\n",
       "      <td>DS</td>\n",
       "      <td>Septiembre</td>\n",
       "      <td>Madrid</td>\n",
       "      <td>TA</td>\n",
       "    </tr>\n",
       "    <tr>\n",
       "      <th>3</th>\n",
       "      <td>Luis Ángel Suárez</td>\n",
       "      <td>FS</td>\n",
       "      <td>Septiembre</td>\n",
       "      <td>Madrid</td>\n",
       "      <td>LI</td>\n",
       "    </tr>\n",
       "    <tr>\n",
       "      <th>4</th>\n",
       "      <td>Mario Prats</td>\n",
       "      <td>FS</td>\n",
       "      <td>Febrero</td>\n",
       "      <td>Valencia</td>\n",
       "      <td>LI</td>\n",
       "    </tr>\n",
       "    <tr>\n",
       "      <th>5</th>\n",
       "      <td>María Dolores Diaz</td>\n",
       "      <td>DS</td>\n",
       "      <td>Septiembre</td>\n",
       "      <td>Madrid</td>\n",
       "      <td>LI</td>\n",
       "    </tr>\n",
       "    <tr>\n",
       "      <th>6</th>\n",
       "      <td>Noa Yáñez</td>\n",
       "      <td>DS</td>\n",
       "      <td>Septiembre</td>\n",
       "      <td>Madrid</td>\n",
       "      <td>TA</td>\n",
       "    </tr>\n",
       "    <tr>\n",
       "      <th>7</th>\n",
       "      <td>Saturnina Benitez</td>\n",
       "      <td>DS</td>\n",
       "      <td>Septiembre</td>\n",
       "      <td>Madrid</td>\n",
       "      <td>TA</td>\n",
       "    </tr>\n",
       "  </tbody>\n",
       "</table>\n",
       "</div>"
      ],
      "text/plain": [
       "             Profesor Vertical   Promocion    Campus Rol\n",
       "0    Ana Sofía Ferrer       FS     Febrero  Valencia  TA\n",
       "1          Anna Feliu       FS  Septiembre    Madrid  TA\n",
       "2         Ariel Lledó       DS  Septiembre    Madrid  TA\n",
       "3   Luis Ángel Suárez       FS  Septiembre    Madrid  LI\n",
       "4         Mario Prats       FS     Febrero  Valencia  LI\n",
       "5  María Dolores Diaz       DS  Septiembre    Madrid  LI\n",
       "6           Noa Yáñez       DS  Septiembre    Madrid  TA\n",
       "7   Saturnina Benitez       DS  Septiembre    Madrid  TA"
      ]
     },
     "metadata": {},
     "output_type": "display_data"
    }
   ],
   "source": [
    "# Consulta 5:\n",
    "print(\"Asignación de Profesores a Cursos\")\n",
    "\n",
    "sql_q5 = \"\"\"\n",
    "SELECT\n",
    "    PROFESORES.Nombre AS Profesor,\n",
    "    VERTICALES.Nombre AS Vertical,\n",
    "    PROMOCION.Mes AS Promocion,\n",
    "    CAMPUS.Ciudad AS Campus,\n",
    "    CURSO_PROFESOR.RolEnCurso AS Rol\n",
    "FROM\n",
    "    PROFESORES\n",
    "JOIN CURSO_PROFESOR ON PROFESORES.ProfesorID = CURSO_PROFESOR.ProfesorID\n",
    "JOIN CURSO ON CURSO_PROFESOR.CursoID = CURSO.CursoID\n",
    "JOIN VERTICALES ON CURSO.VerticalID = VERTICALES.VerticalID\n",
    "JOIN PROMOCION ON CURSO.PromocionID = PROMOCION.PromocionID\n",
    "JOIN CAMPUS ON CURSO.CampusID = CAMPUS.CampusID\n",
    "ORDER BY\n",
    "    PROFESORES.Nombre, Verticales.Nombre, Promocion.Mes\n",
    "\"\"\"\n",
    "\n",
    "df_q5 = pd.read_sql_query(sql_q5, conexion)\n",
    "display(df_q5)"
   ]
  }
 ],
 "metadata": {
  "kernelspec": {
   "display_name": "Python 3",
   "language": "python",
   "name": "python3"
  },
  "language_info": {
   "codemirror_mode": {
    "name": "ipython",
    "version": 3
   },
   "file_extension": ".py",
   "mimetype": "text/x-python",
   "name": "python",
   "nbconvert_exporter": "python",
   "pygments_lexer": "ipython3",
   "version": "3.11.9"
  }
 },
 "nbformat": 4,
 "nbformat_minor": 5
}
